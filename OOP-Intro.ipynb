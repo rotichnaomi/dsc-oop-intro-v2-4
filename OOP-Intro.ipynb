{
 "cells": [
  {
   "cell_type": "markdown",
   "metadata": {},
   "source": [
    "# Object-Oriented Programming - Introduction\n",
    "\n",
    "## Introduction\n",
    "\n",
    "In this section, you'll be introduced to the concept of object-oriented programming (OOP) in Python. OOP has become a foundational practice in much of software development and programming, allowing developers to build upon each other's code in a fluent manner."
   ]
  },
  {
   "cell_type": "markdown",
   "metadata": {},
   "source": [
    "## Programming Paradigms\n",
    "\n",
    "***Programming paradigms*** are formal approaches for structuring code to achieve the desired results.\n",
    "\n",
    "### Why Do We Need Them?\n",
    "\n",
    "For very simple programming tasks, there is essentially only one \"correct\" way to structure the code. For example, if you needed to print the string \"Hello, world!\", this is how you would do it:"
   ]
  },
  {
   "cell_type": "code",
   "execution_count": 1,
   "metadata": {},
   "outputs": [
    {
     "name": "stdout",
     "output_type": "stream",
     "text": [
      "Hello, world!\n"
     ]
    }
   ],
   "source": [
    "print(\"Hello, world!\")"
   ]
  },
  {
   "cell_type": "markdown",
   "metadata": {},
   "source": [
    "But once your code starts to get more complex, the structure gets less intuitive and obvious. For example, if you needed to reshape some data then display a bar graph, or fit a model then use it to make predictions, how would you design that?\n",
    "\n",
    "Deciding on a paradigm and sticking to it helps to guide your code design choices, and helps others to understand what your code is doing."
   ]
  },
  {
   "cell_type": "markdown",
   "metadata": {},
   "source": [
    "### Procedural Programming\n",
    "\n",
    "The oldest (and probably most intuitive) modern programming paradigm is procedural programming. This involves writing a series of sequential steps to be executed, possibly with the use of techniques for ***control flow*** (e.g. `if` statements) and ***modular procedures*** (e.g. functions).\n",
    "\n",
    "Data science code written in a **notebook** is almost always following a procedural programming paradigm. It is useful for telling a story with a single thread, but less useful for building libraries or software that runs without human intervention. Once code starts to get more complicated, we start incorporating more-complex paradigms such as functional programming or OOP."
   ]
  },
  {
   "cell_type": "markdown",
   "metadata": {},
   "source": [
    "### Functional Programming\n",
    "\n",
    "\"Purely functional\" programming, using a language like Haskell or Clojure, means that procedural programming is abandoned entirely -- rather than a series of steps, the program consists only of functions, which in turn can be composed of functions or apply functions.\n",
    "\n",
    "In the development of data science libraries, they tended not to use purely functional programming, but nevertheless incorporated some functional principles.\n",
    "\n",
    "For example, here is the functional interface to Matplotlib:"
   ]
  },
  {
   "cell_type": "code",
   "execution_count": 2,
   "metadata": {},
   "outputs": [
    {
     "data": {
      "image/png": "[encoded data removed]",
      "text/plain": [
       "<Figure size 432x288 with 1 Axes>"
      ]
     },
     "metadata": {
      "needs_background": "light"
     },
     "output_type": "display_data"
    }
   ],
   "source": [
    "import matplotlib.pyplot as plt\n",
    "\n",
    "plt.figure()\n",
    "plt.bar(range(5), [3, 4, 4, 7, 8])\n",
    "plt.title(\"My Graph\")\n",
    "plt.xlabel(\"x Label\")\n",
    "plt.ylabel(\"y Label\");"
   ]
  },
  {
   "cell_type": "markdown",
   "metadata": {},
   "source": [
    "Note that we created this graph without instantiating any variables. We just imported the library, then called a series of functions to create the desired graph. We could rewrite that code snippet like this, to make that aspect even clearer:"
   ]
  },
  {
   "cell_type": "code",
   "execution_count": 3,
   "metadata": {},
   "outputs": [
    {
     "data": {
      "image/png": "[encoded data removed]",
      "text/plain": [
       "<Figure size 432x288 with 1 Axes>"
      ]
     },
     "metadata": {
      "needs_background": "light"
     },
     "output_type": "display_data"
    }
   ],
   "source": [
    "from matplotlib.pyplot import figure, bar, title, xlabel, ylabel\n",
    "\n",
    "figure()\n",
    "bar(range(5), [3, 4, 4, 7, 8])\n",
    "title(\"My Graph\")\n",
    "xlabel(\"x Label\")\n",
    "ylabel(\"y Label\");"
   ]
  },
  {
   "cell_type": "markdown",
   "metadata": {},
   "source": [
    "This approach is still preferred by some \"old school\" data science practitioners, but it has some issues.\n",
    "\n",
    "It uses ***global variables***, which can get messy as code gets more complex. When the `title()` function is called in the above snippet, for example, the internal logic first has to find the current global axes object, then apply the label to that object. For a programmer to understand what axes object that is, they would need to closely follow the steps of the code, since there is no unique variable assigned to it. With no variable assigned, that also means that the code is less flexible and steps must be performed ***one at a time***."
   ]
  },
  {
   "cell_type": "markdown",
   "metadata": {},
   "source": [
    "### Object-Oriented Programming (OOP)\n",
    "\n",
    "Object-oriented programming takes these global variables and functions and makes them into \"member variables\" (AKA ***attributes***) and \"member functions\" (AKA ***methods***). This allows code to be more organized and clear.\n",
    "\n",
    "For example, in the previous functional Matplotlib example, you might ask *What is `title()` being called on? Is it the figure or the axes?*\n",
    "\n",
    "To answer this, we could look at the [Matplotlib source code](https://github.com/matplotlib/matplotlib/blob/v3.5.1/lib/matplotlib/pyplot.py#L3024-L3027), which shows this:\n",
    "\n",
    "```python\n",
    "def title(label, fontdict=None, loc=None, pad=None, *, y=None, **kwargs):\n",
    "    return gca().set_title(\n",
    "        label, fontdict=fontdict, loc=loc, pad=pad, y=y, **kwargs)\n",
    "```\n",
    "\n",
    "`gca()` means \"get current axes\", so we can tell that this is being applied to the axes.\n",
    "\n",
    "Or if we use the object-oriented Matplotlib interface instead, the answer becomes much clearer, just by looking at our code:"
   ]
  },
  {
   "cell_type": "code",
   "execution_count": 4,
   "metadata": {},
   "outputs": [
    {
     "data": {
      "image/png": "[encoded data removed]",
      "text/plain": [
       "<Figure size 432x288 with 1 Axes>"
      ]
     },
     "metadata": {
      "needs_background": "light"
     },
     "output_type": "display_data"
    }
   ],
   "source": [
    "import matplotlib.pyplot as plt\n",
    "\n",
    "fig, ax = plt.subplots()\n",
    "ax.bar(range(5), [3, 4, 4, 7, 8])\n",
    "ax.set_title(\"My Graph\")\n",
    "ax.set_xlabel(\"x Label\")\n",
    "ax.set_ylabel(\"y Label\");"
   ]
  },
  {
   "cell_type": "markdown",
   "metadata": {},
   "source": [
    "As you can see, the title is being applied to the axes, not the figure. We can tell because the method call is structured like `ax.<method name>()` and `ax` is our axes variable.\n",
    "\n",
    "A key takeaway here is that ***you can often do the exact same thing using different paradigms***. They are just different approaches to structuring code, and different people might prefer different approaches."
   ]
  },
  {
   "cell_type": "markdown",
   "metadata": {},
   "source": [
    "## OOP Topics\n",
    "\n",
    "In this section, we will cover:\n",
    "\n",
    "### Classes and Instances\n",
    "\n",
    "A Python class can be thought of as the blueprint for creating a code object. These objects are known as an instance objects or instances. We'll go over how to create classes as well as instances.\n",
    "\n",
    "### Methods and Attributes\n",
    "\n",
    "Next, we'll dive deeper into how to specify and invoke the functions and variables that are \"bound\" to instance objects. This includes the ***encapsulation*** and ***abstraction*** principles of OOP.\n",
    "\n",
    "### Inheritance\n",
    "\n",
    "Inheritance means that classes can be defined that take on the traits of other classes. This is especially useful when interacting with complex code libraries.\n",
    "\n",
    "### OOP and Scikit-Learn\n",
    "\n",
    "![scikit-learn logo](https://github.com/scikit-learn/scikit-learn/raw/main/doc/logos/scikit-learn-logo.png)\n",
    "\n",
    "Scikit-learn is the most popular machine learning library in use today, and its organization relies heavily on object-oriented programming. We'll go over the types of classes used and some of the most common methods and attributes you should know about."
   ]
  },
  {
   "cell_type": "markdown",
   "metadata": {},
   "source": [
    "## Summary\n",
    "\n",
    "Object-oriented programming (OOP) is a way of organizing your code that can make many types of applications easier to write by combining related variables/properties and functions/methods into objects containing both behavior and state."
   ]
  }
 ],
 "metadata": {
  "kernelspec": {
   "display_name": "Python 3",
   "language": "python",
   "name": "python3"
  },
  "language_info": {
   "codemirror_mode": {
    "name": "ipython",
    "version": 3
   },
   "file_extension": ".py",
   "mimetype": "text/x-python",
   "name": "python",
   "nbconvert_exporter": "python",
   "pygments_lexer": "ipython3",
   "version": "3.8.5"
  }
 },
 "nbformat": 4,
 "nbformat_minor": 2
}
